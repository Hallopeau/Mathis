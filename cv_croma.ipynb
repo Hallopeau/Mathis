{
 "cells": [
  {
   "cell_type": "code",
   "execution_count": null,
   "id": "226f6659-78fd-4419-9646-52952bee31a0",
   "metadata": {},
   "outputs": [],
   "source": [
    "import torch\n",
    "import torch.nn as nn\n",
    "from torch.utils.data import TensorDataset, DataLoader, random_split\n",
    "from UCroma import PretrainedCROMA\n",
    "import copy\n",
    "\n",
    "from main import CRLoader as Loader, FExtractor, Trainer, Tester\n",
    "\n",
    "sample_size = 120\n",
    "batch_size = 16\n",
    "\n",
    "Croma = PretrainedCROMA(pretrained_path='CR.pt', size='base', modality='both', image_resolution=sample_size)\n",
    "num_features = Croma(SAR_images=torch.randn(1, 2, sample_size, sample_size), \n",
    "                     optical_images=torch.randn(1, 12, sample_size, sample_size))['joint_GAP'].shape[1]\n",
    "head = nn.Sequential(nn.Linear(num_features, 1000), nn.ReLU(), nn.Linear(1000, 1000), nn.ReLU(), nn.Linear(1000, 2))\n",
    "\n",
    "opt_root_dir = \"/home/stagiaire/D/R/patchs/90\"\n",
    "sar_root_dir = \"/home/stagiaire/D/R/patchs/90R\"\n",
    "\n",
    "num_cv = 5\n",
    "num_folds = 5\n",
    "metrics = [[] for _ in range(num_cv)]\n",
    "\n",
    "for n in range(num_cv):\n",
    "    processor = Loader(opt_root_dir=opt_root_dir, sar_root_dir=sar_root_dir, num_folds=num_folds)\n",
    "    processor.load_data(sample_size=sample_size, batch_size=batch_size, data_seed=None, split_seed=None)\n",
    "    loaders = processor.loaders\n",
    "    \n",
    "    floaders = []\n",
    "    for loader in loaders:\n",
    "        feature_extractor = FExtractor(dataloader=loader, use_8_bit=True)\n",
    "        features, labels = feature_extractor.extract_features()\n",
    "        dataset = TensorDataset(torch.from_numpy(features), torch.from_numpy(labels))\n",
    "        floaders.append(DataLoader(dataset, batch_size=batch_size, shuffle=True))\n",
    "        \n",
    "    for i in range(num_folds):\n",
    "        \n",
    "        head_i = copy.deepcopy(head)\n",
    "        \n",
    "        train_loaders = [floaders[(j + i) % num_folds] for j in range(num_folds - 1)]\n",
    "        test_loader = floaders[(i + num_folds - 1) % num_folds]\n",
    "        \n",
    "        for train_loader in train_loaders:\n",
    "            trainer = Trainer(head_i, train_loader)\n",
    "            trainer.train(num_epochs=100)\n",
    "            \n",
    "        tester = Tester(head_i, test_loader, processor.combined_dataset)\n",
    "        tester.evaluate()\n",
    "        \n",
    "        metrics[n].append(tester.report)"
   ]
  },
  {
   "cell_type": "code",
   "execution_count": null,
   "id": "ef9afed2-be7e-49a8-b3e8-0fe5fc07513f",
   "metadata": {},
   "outputs": [],
   "source": [
    "from R import RGenerator\n",
    "    \n",
    "new_metrics = []\n",
    "for l in metrics:\n",
    "    new_metrics.extend(l)\n",
    "\n",
    "reporter = RGenerator(new_metrics).report()"
   ]
  },
  {
   "cell_type": "code",
   "execution_count": null,
   "id": "455c1cac-4dbd-449d-916c-af2950ecfe31",
   "metadata": {},
   "outputs": [],
   "source": [
    "for l in metrics:\n",
    "    reporter = RGenerator(l).report()"
   ]
  }
 ],
 "metadata": {
  "kernelspec": {
   "display_name": "Python 3 (ipykernel)",
   "language": "python",
   "name": "python3"
  },
  "language_info": {
   "codemirror_mode": {
    "name": "ipython",
    "version": 3
   },
   "file_extension": ".py",
   "mimetype": "text/x-python",
   "name": "python",
   "nbconvert_exporter": "python",
   "pygments_lexer": "ipython3",
   "version": "3.11.6"
  }
 },
 "nbformat": 4,
 "nbformat_minor": 5
}
