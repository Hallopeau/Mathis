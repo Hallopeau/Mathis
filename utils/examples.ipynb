{
 "cells": [
  {
   "cell_type": "code",
   "execution_count": null,
   "id": "99c8e6b6-e51c-419c-b407-e7f0139a137c",
   "metadata": {},
   "outputs": [],
   "source": [
    "from utils import *\n",
    "\n",
    "# Paths to the raster images\n",
    "image_paths = [\"path/to/your/images/1.tif\", \"path/to/your/images/2.tif\"]\n",
    "\n",
    "# Merge the images\n",
    "merger = Merger(image_paths)\n",
    "merger.merge_images()\n",
    "merger.show_merged_image()\n",
    "\n",
    "# Path to a single raster image\n",
    "image_path = \"path/to/your/images/1.tif\"\n",
    "\n",
    "# Generate a grid for the image\n",
    "grid_generator = GridGenerator(image_path)\n",
    "grid_generator.generate_grid()\n",
    "\n",
    "# Paths to the grid shapefile and raster image for filtering\n",
    "grid_filter = Filter(\"path/to/your/grids/1.shp\", \"path/to/your/images/1.tif\")\n",
    "grid_filter.filter_grid()\n",
    "\n",
    "# Cutting images based on grid and percentage\n",
    "for P in range(30, 91, 10):\n",
    "    for n in range(1, 5):\n",
    "        grid_path = f\"path/to/your/grids/{n}.shp\"\n",
    "        image_path = f\"path/to/your/images/{n}.tif\"\n",
    "        output_path = f\"path/to/your/patches/{P}\"\n",
    "        cutter = Cutter(grid_path, image_path, output_path)\n",
    "        cutter.cut_images(0.01 * P)\n",
    "\n",
    "# Cutting images based on grid with a fixed percentage\n",
    "for n in range(1, 5):\n",
    "    grid_path = f\"path/to/your/grids/{n}.shp\"\n",
    "    image_path = f\"path/to/your/images/{n}.tif\"\n",
    "    output_path = f\"path/to/your/patches/{n}\"\n",
    "    cutter = Cutter(grid_path, image_path, output_path)\n",
    "    cutter.cut_images(0.7)\n"
   ]
  }
 ],
 "metadata": {
  "kernelspec": {
   "display_name": "Python 3 (ipykernel)",
   "language": "python",
   "name": "python3"
  },
  "language_info": {
   "codemirror_mode": {
    "name": "ipython",
    "version": 3
   },
   "file_extension": ".py",
   "mimetype": "text/x-python",
   "name": "python",
   "nbconvert_exporter": "python",
   "pygments_lexer": "ipython3",
   "version": "3.11.6"
  }
 },
 "nbformat": 4,
 "nbformat_minor": 5
}
