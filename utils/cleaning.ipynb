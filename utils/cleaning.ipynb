{
 "cells": [
  {
   "cell_type": "code",
   "execution_count": null,
   "id": "e56eb8b2-a957-4a08-a747-0e50d2ab6ecf",
   "metadata": {},
   "outputs": [],
   "source": [
    "'''\n",
    "Standardizes grids and creates unique ids\n",
    "'''\n",
    "\n",
    "import geopandas as gpd\n",
    "\n",
    "zone = 4\n",
    "grid_path = f\"path/to/your/grids/{zone}.shp\"\n",
    "gdf = gpd.read_file(grid_path)\n",
    "\n",
    "new_names = {\"P_vegetati\": \"p_vegeta\", \"P_favelas\": \"p_favelas\", \"residentie\": \"res\", \"GHSL\": \"ghsl\", \"zone_inus\": \"zi\"}\n",
    "gdf = gdf.rename(columns=new_names)\n",
    "\n",
    "to_keep = [\"geometry\", \"id\", \"res\", \"p_favelas\", \"p_vegeta\", \"ghsl\", \"zi\"]\n",
    "gdf = gdf.drop(columns=set(gdf.columns) - set(to_keep))\n",
    "\n",
    "gdf.fillna(0, inplace=True)\n",
    "gdf['id'] = range(1, len(gdf) + 1)\n",
    "gdf[\"id\"] = gdf[\"id\"] + 100000*int(grid_path.split(\".\")[0].split(\"/\")[-1])\n",
    "gdf[[\"res\", \"p_favelas\", \"p_vegeta\", \"ghsl\", \"zi\"]] = gdf[[\"res\", \"p_favelas\", \"p_vegeta\", \"ghsl\", \"zi\"]].astype(float)\n",
    "\n",
    "save_path = f\"{'/'.join(grid_path.split('.')[0].split('/')[:-1])}/{grid_path.split('.')[0].split('/')[-1]}_clean.shp\"\n",
    "gdf.to_file(save_path, driver=\"ESRI Shapefile\")\n",
    "\n",
    "print(gdf)"
   ]
  }
 ],
 "metadata": {
  "kernelspec": {
   "display_name": "Python 3 (ipykernel)",
   "language": "python",
   "name": "python3"
  },
  "language_info": {
   "codemirror_mode": {
    "name": "ipython",
    "version": 3
   },
   "file_extension": ".py",
   "mimetype": "text/x-python",
   "name": "python",
   "nbconvert_exporter": "python",
   "pygments_lexer": "ipython3",
   "version": "3.11.6"
  }
 },
 "nbformat": 4,
 "nbformat_minor": 5
}
