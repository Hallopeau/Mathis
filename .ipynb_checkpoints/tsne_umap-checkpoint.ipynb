{
 "cells": [
  {
   "cell_type": "code",
   "execution_count": null,
   "id": "b1d55ef0-de47-44c8-a196-1bcdc80f77f7",
   "metadata": {},
   "outputs": [],
   "source": [
    "from main import CRLoader as Loader, FExtractor\n",
    "\n",
    "processor = Loader(opt_root_dir=\"/home/stagiaire/D/R/patchs/70\", sar_root_dir=\"/home/stagiaire/D/R/patchs/70R\", num_folds=1)\n",
    "processor.load_data(sample_size=120, batch_size=16)\n",
    "loader = processor.loaders[0]\n",
    "\n",
    "feature_extractor = FExtractor(dataloader=loader)\n",
    "features, labels = feature_extractor.extract_features(save_name=\"70\")"
   ]
  },
  {
   "cell_type": "code",
   "execution_count": null,
   "id": "57e4a3b7-0c3e-4c5e-8082-7da3a847afce",
   "metadata": {},
   "outputs": [],
   "source": [
    "import pandas as pd\n",
    "import h5py\n",
    "\n",
    "with h5py.File(\"/home/stagiaire/C/R/70.h5\", \"r\") as f:\n",
    "    features = pd.DataFrame(f[\"features\"][:])\n",
    "    labels = pd.DataFrame(f[\"labels\"][:])\n",
    "\n",
    "import numpy as np\n",
    "import matplotlib.pyplot as plt\n",
    "from sklearn.manifold import TSNE\n",
    "from umap import UMAP\n",
    "\n",
    "features = features.values\n",
    "labels = labels.values.flatten()"
   ]
  },
  {
   "cell_type": "code",
   "execution_count": null,
   "id": "e6257090-efb9-44c3-aaa5-f6df643e294e",
   "metadata": {},
   "outputs": [],
   "source": [
    "umap = UMAP(n_components=2)\n",
    "features_embedded_umap = umap.fit_transform(features)\n",
    "tsne = TSNE(n_components=2, random_state=42)\n",
    "features_embedded_tsne = tsne.fit_transform(features)\n",
    "\n",
    "fig, axs = plt.subplots(1, 2, figsize=(6, 3))\n",
    "\n",
    "for label in np.unique(labels):\n",
    "    axs[0].scatter(features_embedded_tsne[labels == label][:, 0], features_embedded_tsne[labels == label][:, 1], label=label, s=1)\n",
    "axs[0].set_title(\"\")\n",
    "axs[0].set_xlabel(\"\")\n",
    "axs[0].set_ylabel(\"\")\n",
    "axs[0].legend()\n",
    "\n",
    "for label in np.unique(labels):\n",
    "    axs[1].scatter(features_embedded_umap[labels == label][:, 0], features_embedded_umap[labels == label][:, 1], label=label, s=1)\n",
    "axs[1].set_title(\"\")\n",
    "axs[1].set_xlabel(\"\")\n",
    "axs[1].set_ylabel(\"\")\n",
    "axs[1].legend()\n",
    "\n",
    "plt.tight_layout()\n",
    "plt.savefig(\"tsne_umap.png\", dpi=300, bbox_inches=\"tight\")\n",
    "plt.show()"
   ]
  }
 ],
 "metadata": {
  "kernelspec": {
   "display_name": "Python 3 (ipykernel)",
   "language": "python",
   "name": "python3"
  },
  "language_info": {
   "codemirror_mode": {
    "name": "ipython",
    "version": 3
   },
   "file_extension": ".py",
   "mimetype": "text/x-python",
   "name": "python",
   "nbconvert_exporter": "python",
   "pygments_lexer": "ipython3",
   "version": "3.11.6"
  }
 },
 "nbformat": 4,
 "nbformat_minor": 5
}
