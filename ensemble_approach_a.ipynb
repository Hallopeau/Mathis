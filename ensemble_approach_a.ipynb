{
 "cells": [
  {
   "cell_type": "code",
   "execution_count": null,
   "id": "8fd9f931-424f-435a-b7c9-a31b22cc66d9",
   "metadata": {},
   "outputs": [],
   "source": [
    "from main import CRLoader as Loader, FExtractorB as FExtractor, TrainerB as Trainer, TesterB as Tester\n",
    "\n",
    "import torch\n",
    "import torch.nn as nn\n",
    "from torch.utils.data import TensorDataset, DataLoader\n",
    "from UCroma import PretrainedCROMA\n",
    "import copy\n",
    "import pandas as pd\n",
    "import os\n",
    "import pickle\n",
    "    \n",
    "sample_size = 120\n",
    "batch_size = 16\n",
    "\n",
    "Croma = PretrainedCROMA(pretrained_path='CR.pt', size='base', modality='both', image_resolution=sample_size)\n",
    "num_features = Croma(SAR_images=torch.randn(1, 2, sample_size, sample_size), \n",
    "                     optical_images=torch.randn(1, 12, sample_size, sample_size))['joint_GAP'].shape[1]\n",
    "head = nn.Sequential(nn.Linear(num_features, 1000), nn.ReLU(), nn.Linear(1000, 1000), nn.ReLU(), nn.Linear(1000, 2))"
   ]
  },
  {
   "cell_type": "code",
   "execution_count": null,
   "id": "367c7322-e4d5-4c00-a79c-b86dd1f89baf",
   "metadata": {},
   "outputs": [],
   "source": [
    "it = 10\n",
    "metrics = []\n",
    "\n",
    "data = {}\n",
    "for j in range(1, 5):\n",
    "    root_dir = f\"/home/stagiaire/D/D/patchs/{j}n\"  \n",
    "    for folder in os.listdir(root_dir):\n",
    "        root_folder = os.path.join(root_dir, folder)\n",
    "        files = os.listdir(root_folder)\n",
    "        for file in files:\n",
    "            n = file.split('.')[0]\n",
    "            data[n] = []\n",
    "global_list = pd.DataFrame(list(data.items()), columns=['Id', 'List'])\n",
    "global_list = global_list.set_index('Id')\n",
    "\n",
    "processor = Loader(opt_root_dir=f\"/home/stagiaire/D/D/patchs/{3}n\", sar_root_dir=f\"/home/stagiaire/D/D/patchs/{3}Rn\", num_folds=1)\n",
    "processor.load_data(sample_size=sample_size, batch_size=batch_size)\n",
    "loader = processor.loaders[0]\n",
    "feature_extractor = FExtractor(dataloader=loader, use_8_bit=True)\n",
    "features, labels, ids = feature_extractor.extract_features()\n",
    "dataset = TensorDataset(torch.from_numpy(features), torch.from_numpy(labels), torch.from_numpy(ids))\n",
    "f_test_loader = DataLoader(dataset, batch_size=batch_size, shuffle=False)\n",
    "\n",
    "for i in range(it):\n",
    "\n",
    "    processor = Loader(opt_root_dir=f\"/home/stagiaire/D/D/patchs/{412}n\", sar_root_dir=f\"/home/stagiaire/D/D/patchs/{412}Rn\", num_folds=1)\n",
    "    processor.load_data(sample_size=sample_size, batch_size=batch_size)\n",
    "    loader = processor.loaders[0]\n",
    "    feature_extractor = FExtractor(dataloader=loader, use_8_bit=True)\n",
    "    features, labels, ids = feature_extractor.extract_features()\n",
    "    dataset = TensorDataset(torch.from_numpy(features), torch.from_numpy(labels), torch.from_numpy(ids))\n",
    "    f_train_loader = DataLoader(dataset, batch_size=batch_size, shuffle=False)\n",
    "\n",
    "    head_i = copy.deepcopy(head)\n",
    "        \n",
    "    trainer = Trainer(head_i, f_train_loader)\n",
    "    trainer.train(num_epochs=40)\n",
    "        \n",
    "    tester = Tester(head_i, f_test_loader, processor.combined_dataset)\n",
    "    tester.evaluate(global_list)\n",
    "    \n",
    "    metrics.append(tester.report)\n",
    "                \n",
    "with open(f\"/home/stagiaire/D/R/metrics/MV{it}3.pkl\", 'wb') as f:\n",
    "    pickle.dump(global_list, f)"
   ]
  },
  {
   "cell_type": "code",
   "execution_count": null,
   "id": "dfa3df98-b5b8-4406-8ef9-58247899f247",
   "metadata": {},
   "outputs": [],
   "source": [
    "from R import RGenerator\n",
    "\n",
    "report = RGenerator(metrics).report()"
   ]
  }
 ],
 "metadata": {
  "kernelspec": {
   "display_name": "Python 3 (ipykernel)",
   "language": "python",
   "name": "python3"
  },
  "language_info": {
   "codemirror_mode": {
    "name": "ipython",
    "version": 3
   },
   "file_extension": ".py",
   "mimetype": "text/x-python",
   "name": "python",
   "nbconvert_exporter": "python",
   "pygments_lexer": "ipython3",
   "version": "3.11.6"
  }
 },
 "nbformat": 4,
 "nbformat_minor": 5
}
