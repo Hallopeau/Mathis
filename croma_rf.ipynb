{
 "cells": [
  {
   "cell_type": "code",
   "execution_count": null,
   "id": "7065d6f2-f1eb-4a0a-bf01-ce01a8d66f5b",
   "metadata": {},
   "outputs": [],
   "source": [
    "from sklearn.ensemble import RandomForestClassifier\n",
    "from sklearn.metrics import jaccard_score, classification_report, confusion_matrix\n",
    "\n",
    "from main import CRLoader as Loader, FExtractor\n",
    "\n",
    "import pandas as pd\n",
    "import numpy as np\n",
    "\n",
    "sample_size = 120\n",
    "batch_size = 16\n",
    "\n",
    "cross_validations = 5\n",
    "num_folds = 5\n",
    "metrics = []\n",
    "\n",
    "for i in range(cross_validations):\n",
    "\n",
    "    processor = Loader(opt_root_dir=f\"/home/stagiaire/D/R/patchs/70\", sar_root_dir=f\"/home/stagiaire/D/R/patchs/70R\", num_folds=num_folds)\n",
    "    processor.load_data(sample_size=sample_size, batch_size=batch_size)\n",
    "    loaders = processor.loaders\n",
    "\n",
    "    floaders = []\n",
    "    for loader in loaders:\n",
    "        feature_extractor = FExtractor(dataloader=loader, use_8_bit=True)\n",
    "        features, labels = feature_extractor.extract_features()\n",
    "        floaders.append([features, labels])\n",
    "\n",
    "    for i in range(num_folds):\n",
    "        rf_model = RandomForestClassifier(n_estimators=400)\n",
    "\n",
    "        tr = [floaders[(j + i) % num_folds] for j in range(num_folds - 1)]\n",
    "        train_features, train_labels = [t[0] for t in tr], [t[1] for t in tr]\n",
    "        te = floaders[(i + num_folds - 1) % num_folds]\n",
    "        test_features, test_labels = te[0], te[1]\n",
    "\n",
    "        for tf, tl in zip(train_features, train_labels):\n",
    "            rf_model.fit(tf, tl)\n",
    "            \n",
    "        predictions = rf_model.predict(test_features)\n",
    "        predictions_inv, test_labels_inv = [1 if p == 0 else 0 for p in predictions], [1 if l == 0 else 0 for l in test_labels]\n",
    "        \n",
    "        IoU = jaccard_score(test_labels_inv, predictions_inv)\n",
    "        cm = confusion_matrix(test_labels_inv, predictions_inv)\n",
    "        df_cm = pd.DataFrame(cm, index=['Actual Class 0', 'Actual Class 1'], columns=['Predicted Class 0', 'Predicted Class 1'])\n",
    "        cr = classification_report(test_labels_inv, predictions_inv)\n",
    "        \n",
    "        print(f\"\\nJaccard index: {IoU*100: 0.1f}%\\n\")\n",
    "        print(f\"\\n{df_cm}\\n\")\n",
    "        print(f\"\\n{cr}\\n\")\n",
    "        metrics.append([cm, cr, IoU])"
   ]
  },
  {
   "cell_type": "code",
   "execution_count": null,
   "id": "dfa3df98-b5b8-4406-8ef9-58247899f247",
   "metadata": {},
   "outputs": [],
   "source": [
    "from R import RGenerator\n",
    "\n",
    "report = RGenerator(metrics).report()"
   ]
  }
 ],
 "metadata": {
  "kernelspec": {
   "display_name": "Python 3 (ipykernel)",
   "language": "python",
   "name": "python3"
  },
  "language_info": {
   "codemirror_mode": {
    "name": "ipython",
    "version": 3
   },
   "file_extension": ".py",
   "mimetype": "text/x-python",
   "name": "python",
   "nbconvert_exporter": "python",
   "pygments_lexer": "ipython3",
   "version": "3.11.6"
  }
 },
 "nbformat": 4,
 "nbformat_minor": 5
}
