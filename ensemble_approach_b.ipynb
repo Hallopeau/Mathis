{
 "cells": [
  {
   "cell_type": "code",
   "execution_count": null,
   "id": "cf12c61a-77a4-491e-bc79-70e1ed2a935d",
   "metadata": {},
   "outputs": [],
   "source": [
    "import pickle\n",
    "import os\n",
    "import pandas as pd\n",
    "import numpy as np\n",
    "from sklearn.metrics import jaccard_score, classification_report, confusion_matrix\n",
    "\n",
    "it = 10\n",
    "with open(f\"/home/stagiaire/D/R/metrics/MV{it}3.pkl\", 'rb') as f:\n",
    "    global_list = pickle.load(f)\n",
    "\n",
    "data = {}\n",
    "for i in range(1, 5):\n",
    "    root_dir = f\"/home/stagiaire/D/D/patchs/{i}n\"\n",
    "    keys = {\"favelas\": 1, \"residential\": 0}\n",
    "    for folder in os.listdir(root_dir):\n",
    "        root_folder = os.path.join(root_dir, folder)\n",
    "        files = os.listdir(root_folder)\n",
    "        for file in files:\n",
    "            n = file.split('.')[0]\n",
    "            data[n] = keys[folder]\n",
    "labels_list = pd.DataFrame(list(data.items()), columns=['Id', 'Label'])\n",
    "labels_list = labels_list.set_index('Id')\n",
    "\n",
    "for index, row in global_list.iterrows():\n",
    "    if len(row['List'])<10:  \n",
    "        global_list = global_list.drop(index)\n",
    "        labels_list = labels_list.drop(index) \n",
    "\n",
    "means = (global_list['List'].apply(np.mean)).tolist()\n",
    "output_labels = [1 if m >= 0.5 else 0 for m in means]\n",
    "labels_list = labels_list['Label'].tolist()\n",
    "\n",
    "CM = confusion_matrix(labels_list, output_labels)\n",
    "CM = pd.DataFrame(CM, index=['Actual Class 0', 'Actual Class 1'], columns=['Predicted Class 0', 'Predicted Class 1'])\n",
    "CR = classification_report(labels_list, output_labels)\n",
    "\n",
    "print(f\"\\n{CM}\\n\")\n",
    "print(f\"\\n{CR}\\n\")"
   ]
  }
 ],
 "metadata": {
  "kernelspec": {
   "display_name": "Python 3 (ipykernel)",
   "language": "python",
   "name": "python3"
  },
  "language_info": {
   "codemirror_mode": {
    "name": "ipython",
    "version": 3
   },
   "file_extension": ".py",
   "mimetype": "text/x-python",
   "name": "python",
   "nbconvert_exporter": "python",
   "pygments_lexer": "ipython3",
   "version": "3.11.6"
  }
 },
 "nbformat": 4,
 "nbformat_minor": 5
}
