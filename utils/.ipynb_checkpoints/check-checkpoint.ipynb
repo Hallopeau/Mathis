{
 "cells": [
  {
   "cell_type": "code",
   "execution_count": null,
   "id": "0c0065d0-b904-4f0b-ba84-dc974276a94e",
   "metadata": {},
   "outputs": [],
   "source": [
    "'''\n",
    "Checks that there are no duplicates in cell ids\n",
    "'''\n",
    "\n",
    "import geopandas as gpd\n",
    "import pandas as pd\n",
    "\n",
    "grid_path = \"path/to/your/grids/1.shp\"\n",
    "gdf = gpd.read_file(grid_path)\n",
    "\n",
    "id = gdf[\"id\"].to_list()\n",
    "print(len(id) == len(set(id)))\n",
    "print(len(id))\n",
    "print(len(set(id)))\n",
    "\n",
    "occurrences = {}\n",
    "for n in id:\n",
    "    if n in occurrences:\n",
    "        occurrences[n] += 1\n",
    "    else:\n",
    "        occurrences[n] = 1\n",
    "\n",
    "rep = []\n",
    "for n, occ in occurrences.items():\n",
    "    if occ > 1:\n",
    "        rep.append(n)\n",
    "\n",
    "print(len(rep))"
   ]
  },
  {
   "cell_type": "code",
   "execution_count": null,
   "id": "4a43f064-a130-4f50-9ba6-e43d257584d6",
   "metadata": {},
   "outputs": [],
   "source": [
    "gdf1 = gpd.read_file(\"path/to/your/grids/1.shp.shp\")\n",
    "gdf2 = gpd.read_file(\"path/to/your/grids/2.shp.shp\")\n",
    "\n",
    "id1 = gdf1[\"id\"].to_list()\n",
    "id2 = gdf2[\"id\"].to_list()\n",
    "id = id1 + id2\n",
    "\n",
    "print(len(id) == len(set(id)))\n",
    "print(len(id))\n",
    "print(len(set(id)))\n",
    "\n",
    "occurrences = {}\n",
    "for n in id:\n",
    "    if n in occurrences:\n",
    "        occurrences[n] += 1\n",
    "    else:\n",
    "        occurrences[n] = 1\n",
    "\n",
    "rep = []\n",
    "for n, occ in occurrences.items():\n",
    "    if occ > 1:\n",
    "        rep.append(n)\n",
    "\n",
    "print(len(rep))"
   ]
  },
  {
   "cell_type": "code",
   "execution_count": null,
   "id": "68016244-dfcf-4b4f-8890-b1d95eddc8b2",
   "metadata": {},
   "outputs": [],
   "source": [
    "import os\n",
    "\n",
    "main_dir = \"path/to/your/patches/1\"\n",
    "l = []\n",
    "\n",
    "for dir in os.listdir(main_dir):\n",
    "    dir_path = os.path.join(main_dir, dir)\n",
    "    if os.path.isdir(dir_path):\n",
    "        for file in os.listdir(dir_path):\n",
    "            l.append(int(file.split(\".\")[0]))\n",
    "print(l)"
   ]
  }
 ],
 "metadata": {
  "kernelspec": {
   "display_name": "Python 3 (ipykernel)",
   "language": "python",
   "name": "python3"
  },
  "language_info": {
   "codemirror_mode": {
    "name": "ipython",
    "version": 3
   },
   "file_extension": ".py",
   "mimetype": "text/x-python",
   "name": "python",
   "nbconvert_exporter": "python",
   "pygments_lexer": "ipython3",
   "version": "3.11.6"
  }
 },
 "nbformat": 4,
 "nbformat_minor": 5
}
