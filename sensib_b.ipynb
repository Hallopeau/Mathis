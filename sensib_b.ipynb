{
 "cells": [
  {
   "cell_type": "code",
   "execution_count": null,
   "id": "67904e75-b4ea-47a8-a6f9-c2053b356709",
   "metadata": {},
   "outputs": [],
   "source": [
    "import pickle\n",
    "import matplotlib.pyplot as plt\n",
    "import seaborn as sns\n",
    "import numpy as np\n",
    "import statistics\n",
    "\n",
    "from main import RGenerator\n",
    "\n",
    "precision = []\n",
    "recall = []\n",
    "f1_score = []\n",
    "\n",
    "for r in range(30, 91, 10):\n",
    "    with open(f\"/home/stagiaire/D/R/metrics/{r}.pkl\", \"rb\") as f:\n",
    "        metrics = pickle.load(f) \n",
    "    new_metrics = []\n",
    "    for l in metrics:\n",
    "        new_metrics.extend(l)  \n",
    "    report = RGenerator(new_metrics).report()\n",
    "    precision_mean , _ = report[0]\n",
    "    precision.append(precision_mean)\n",
    "    recall_mean , _ = report[1]\n",
    "    recall.append(recall_mean)\n",
    "    f1_score_mean , _ = report[2]\n",
    "    f1_score.append(f1_score_mean)"
   ]
  },
  {
   "cell_type": "code",
   "execution_count": null,
   "id": "c3784639-0f43-4ba0-9877-c4e62f9c72f6",
   "metadata": {},
   "outputs": [],
   "source": [
    "plt.plot(range(30, 91, 10), precision, marker=\"o\", linestyle=\"-\", label = \"Precision\")\n",
    "plt.plot(range(30, 91, 10), recall, marker=\"o\", linestyle=\"-\", label = \"Recall\")\n",
    "plt.plot(range(30, 91, 10), f1_score, marker=\"o\", linestyle=\"-\", label = \"F1-score\")\n",
    "plt.xlabel(\"\")\n",
    "plt.ylabel(\"\")\n",
    "'''\n",
    "plt.legend()\n",
    "'''\n",
    "plt.grid()\n",
    "plt.savefig(\"sensib.png\", dpi=600, bbox_inches=\"tight\")\n",
    "plt.show()"
   ]
  }
 ],
 "metadata": {
  "kernelspec": {
   "display_name": "Python 3 (ipykernel)",
   "language": "python",
   "name": "python3"
  },
  "language_info": {
   "codemirror_mode": {
    "name": "ipython",
    "version": 3
   },
   "file_extension": ".py",
   "mimetype": "text/x-python",
   "name": "python",
   "nbconvert_exporter": "python",
   "pygments_lexer": "ipython3",
   "version": "3.11.6"
  }
 },
 "nbformat": 4,
 "nbformat_minor": 5
}
