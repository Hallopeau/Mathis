{
 "cells": [
  {
   "cell_type": "code",
   "execution_count": null,
   "id": "86da295c-4525-4851-b250-e7b3199a62c2",
   "metadata": {},
   "outputs": [],
   "source": [
    "import torch\n",
    "import torch.nn as nn\n",
    "from torch.utils.data import TensorDataset, DataLoader\n",
    "from UCroma import PretrainedCROMA\n",
    "import copy\n",
    "\n",
    "from main import CRLoader as Loader, FExtractor, Trainer, Tester\n",
    "\n",
    "sample_size = 120\n",
    "batch_size = 16\n",
    "\n",
    "Croma = PretrainedCROMA(pretrained_path='CR.pt', size='base', modality='both', image_resolution=sample_size)\n",
    "num_features = Croma(SAR_images=torch.randn(1, 2, sample_size, sample_size), \n",
    "                     optical_images=torch.randn(1, 12, sample_size, sample_size))['joint_GAP'].shape[1]\n",
    "head = nn.Sequential(nn.Linear(num_features, 1000), nn.ReLU(), nn.Linear(1000, 1000), nn.ReLU(), nn.Linear(1000, 2))"
   ]
  },
  {
   "cell_type": "code",
   "execution_count": null,
   "id": "0afa8b08-ca81-45ce-bc84-f16b0f10f043",
   "metadata": {},
   "outputs": [],
   "source": [
    "it = 5\n",
    "metrics = []\n",
    "\n",
    "for i in range(it):\n",
    "    \n",
    "    loaders = []\n",
    "    for n in range(1, 5):\n",
    "        processor = Loader(opt_root_dir=f\"/home/stagiaire/D/D/patchs/{n}n\", sar_root_dir=f\"/home/stagiaire/D/D/patchs/{n}Rn\", num_folds=1)\n",
    "        processor.load_data(sample_size=sample_size, batch_size=batch_size)\n",
    "        loader = processor.loaders[0]\n",
    "        feature_extractor = FExtractor(dataloader=loader, use_8_bit=True)\n",
    "        features, labels = feature_extractor.extract_features()\n",
    "        dataset = TensorDataset(torch.from_numpy(features), torch.from_numpy(labels))\n",
    "        loaders.append(DataLoader(dataset, batch_size=batch_size, shuffle=True))  \n",
    "            \n",
    "    head_i = copy.deepcopy(head)\n",
    "        \n",
    "    train_loaders = [loaders[2],loaders[3],loaders[1]]\n",
    "    test_loader = loaders[0]\n",
    "        \n",
    "    for train_loader in train_loaders:\n",
    "        trainer = Trainer(head_i, train_loader)\n",
    "        trainer.train(num_epochs=100)\n",
    "\n",
    "    tester = Tester(head_i, test_loader, processor.combined_dataset)\n",
    "    tester.evaluate()\n",
    "    metrics.append(tester.report)"
   ]
  },
  {
   "cell_type": "code",
   "execution_count": null,
   "id": "ef9afed2-be7e-49a8-b3e8-0fe5fc07513f",
   "metadata": {},
   "outputs": [],
   "source": [
    "from R import RGenerator\n",
    "\n",
    "report = RGenerator(metrics).report()"
   ]
  }
 ],
 "metadata": {
  "kernelspec": {
   "display_name": "Python 3 (ipykernel)",
   "language": "python",
   "name": "python3"
  },
  "language_info": {
   "codemirror_mode": {
    "name": "ipython",
    "version": 3
   },
   "file_extension": ".py",
   "mimetype": "text/x-python",
   "name": "python",
   "nbconvert_exporter": "python",
   "pygments_lexer": "ipython3",
   "version": "3.11.6"
  }
 },
 "nbformat": 4,
 "nbformat_minor": 5
}
